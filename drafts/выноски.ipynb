{
 "cells": [
  {
   "cell_type": "code",
   "execution_count": 1,
   "metadata": {},
   "outputs": [],
   "source": [
    "import numpy as np\n",
    "import pandas as pd"
   ]
  },
  {
   "cell_type": "code",
   "execution_count": 2,
   "metadata": {},
   "outputs": [
    {
     "ename": "NameError",
     "evalue": "name 'task_01' is not defined",
     "output_type": "error",
     "traceback": [
      "\u001b[1;31m---------------------------------------------------------------------------\u001b[0m",
      "\u001b[1;31mNameError\u001b[0m                                 Traceback (most recent call last)",
      "Cell \u001b[1;32mIn[2], line 3\u001b[0m\n\u001b[0;32m      1\u001b[0m \u001b[39m# Пытаюсь а) нарисовать график по таймдельтам б) привести таймдельты к матплотлибоугодному виду\u001b[39;00m\n\u001b[1;32m----> 3\u001b[0m (task_01\n\u001b[0;32m      4\u001b[0m     \u001b[39m.\u001b[39mfillna (pd\u001b[39m.\u001b[39mto_timedelta(\u001b[39m0\u001b[39m))\n\u001b[0;32m      5\u001b[0m     \u001b[39m.\u001b[39mapplymap (\u001b[39mlambda\u001b[39;00m x: pd\u001b[39m.\u001b[39mto_timedelta(x\u001b[39m.\u001b[39mround(\u001b[39m'\u001b[39m\u001b[39ms\u001b[39m\u001b[39m'\u001b[39m)))\n\u001b[0;32m      6\u001b[0m     \u001b[39m# .applymap (lambda x: x.as_unit('s'))    # 'Timedelta' object has no attribute 'as_unit' видимо более новое\u001b[39;00m\n\u001b[0;32m      7\u001b[0m     \u001b[39m# .apply (lambda col: col.to_pytimedelta(), axis=0)\u001b[39;00m\n\u001b[0;32m      8\u001b[0m     \u001b[39m# .applymap (lambda x: x.to_numpy())          # timedelta64[ns]\u001b[39;00m\n\u001b[0;32m      9\u001b[0m     \u001b[39m# .applymap (lambda x: x.to_pytimedelta())    #  timedelta64[ns]\u001b[39;00m\n\u001b[0;32m     10\u001b[0m     \u001b[39m# .applymap (lambda x: pd.to_timedelta(x))    # timedelta64[ns]\u001b[39;00m\n\u001b[0;32m     11\u001b[0m     \u001b[39m.\u001b[39mdtypes\n\u001b[0;32m     12\u001b[0m     \u001b[39m# .plot(kind = 'barh')\u001b[39;00m\n\u001b[0;32m     13\u001b[0m )\n\u001b[0;32m     14\u001b[0m \u001b[39m# task_01[task_01.columns[0]].value_counts()\u001b[39;00m\n",
      "\u001b[1;31mNameError\u001b[0m: name 'task_01' is not defined"
     ]
    }
   ],
   "source": [
    "# Пытаюсь а) нарисовать график по таймдельтам б) привести таймдельты к матплотлибоугодному виду\n",
    "\n",
    "(task_01\n",
    "    .fillna (pd.to_timedelta(0))\n",
    "    .applymap (lambda x: pd.to_timedelta(x.round('s')))\n",
    "    # .applymap (lambda x: x.as_unit('s'))    # 'Timedelta' object has no attribute 'as_unit' видимо более новое\n",
    "    # .apply (lambda col: col.to_pytimedelta(), axis=0)\n",
    "    # .applymap (lambda x: x.to_numpy())          # timedelta64[ns]\n",
    "    # .applymap (lambda x: x.to_pytimedelta())    #  timedelta64[ns]\n",
    "    # .applymap (lambda x: pd.to_timedelta(x))    # timedelta64[ns]\n",
    "    .dtypes\n",
    "    # .plot(kind = 'barh')\n",
    ")\n",
    "# task_01[task_01.columns[0]].value_counts()"
   ]
  },
  {
   "cell_type": "code",
   "execution_count": 5,
   "metadata": {},
   "outputs": [
    {
     "data": {
      "text/plain": [
       "array([0, 1, 2])"
      ]
     },
     "execution_count": 5,
     "metadata": {},
     "output_type": "execute_result"
    }
   ],
   "source": [
    "np.arange(3)"
   ]
  },
  {
   "cell_type": "code",
   "execution_count": null,
   "metadata": {},
   "outputs": [],
   "source": [
    "# Задание 1. Подготовка таблицы №1\n",
    "\n",
    "# Наброски ответов на вопросы\n",
    "# Вопрос 1. Отличается ли время прохождения различных этапов у пользователей, которые прошли обучение, и пользователей, не начинавших обучение?\n",
    "task_01 = \\\n",
    "(user_events_wide\n",
    "    .pivot_table\n",
    "    (   index = ['tutorial_status']\n",
    "        , values = [col for col in user_events_wide.columns if 'gap' in col]\n",
    "        # , columns = ['event_type']\n",
    "        , aggfunc = 'mean'\n",
    "        , sort = False\n",
    "    )\n",
    ")\n",
    "task_01"
   ]
  },
  {
   "cell_type": "code",
   "execution_count": null,
   "metadata": {},
   "outputs": [],
   "source": [
    "# Задание 1. Подготовка таблицы №2\n",
    "\n",
    "task_01_alt = \\\n",
    "(   user_events_wide\n",
    "    .set_index ('tutorial_status')\n",
    "    .filter (like='gap')\n",
    "    .melt(ignore_index=False, var_name='event', value_name='interval')\n",
    "    .assign\n",
    "    (**{'event': lambda df: \n",
    "            df['event']\n",
    "            .str.split(':')\n",
    "            .map(lambda x:x[1])\n",
    "            .astype(pd.api.types.CategoricalDtype(categories=events_arranged, ordered=True))\n",
    "    })\n",
    "    .groupby (['tutorial_status', 'event']).mean()\n",
    "    .reset_index()\n",
    "    .assign\n",
    "    (**{'interval_hours': lambda df: \n",
    "                df['interval'].map(lambda x: x.days*24 + x.seconds/3600).round(3)\n",
    "        , 'percent_to_max': lambda df:\n",
    "                (df['interval_hours'] / df.groupby('event')['interval_hours'].transform(max)).round(3)*100\n",
    "    })\n",
    "    # .dropna()\n",
    ")\n",
    "task_01_alt"
   ]
  },
  {
   "cell_type": "code",
   "execution_count": null,
   "metadata": {},
   "outputs": [],
   "source": [
    "# Задание 1. Подход к графику №1\n",
    "\n",
    "def humanize_headers (df):\n",
    "    df.columns = \\\n",
    "    (   df.columns\n",
    "        .str.replace('_',' ')\n",
    "        .str.split(':')\n",
    "        .map(lambda x:x[1])\n",
    "    )\n",
    "    return df\n",
    "plot_01 = \\\n",
    "(task_01\n",
    "    # .fillna (pd.to_timedelta(0))\n",
    "    .applymap (lambda x: x.days*24 + x.seconds/3600).round(2)\n",
    "    .apply (lambda x: x/x.sum())\n",
    "    .pipe (humanize_headers)\n",
    "    .transpose()\n",
    "    .rename_axis(columns=None, index='event')\n",
    "    .reset_index()\n",
    "    # .plot(kind = 'barh')\n",
    ")\n",
    "plot_01"
   ]
  },
  {
   "cell_type": "code",
   "execution_count": null,
   "metadata": {},
   "outputs": [],
   "source": []
  },
  {
   "cell_type": "code",
   "execution_count": null,
   "metadata": {},
   "outputs": [],
   "source": [
    "# Задание 1. Подход к графику №2\n",
    "c = \\\n",
    "(   task_01_alt[['event', 'tutorial_status', 'percent_to_max']]\n",
    "    .set_index (['event', 'tutorial_status'])\n",
    "    .unstack ('tutorial_status')\n",
    "    .sort_index(ascending = False, axis = 1)\n",
    "    .plot\n",
    "    (   kind = 'barh'\n",
    "        , y = 'percent_to_max'\n",
    "        , stacked = False\n",
    "    )\n",
    ")\n",
    "c"
   ]
  },
  {
   "cell_type": "code",
   "execution_count": null,
   "metadata": {},
   "outputs": [],
   "source": [
    "# Задание 1. Подход к графику №3 + изучение Сиборна\n",
    "\n",
    "b = sns.barplot\\\n",
    "(   data = task_01_alt\n",
    "    , y = 'event'\n",
    "    , x = 'percent_to_max'\n",
    "    , hue = 'tutorial_status'\n",
    ")\n",
    "\n",
    "\n",
    "b.__class__     # matplotlib.axes._axes.Axes\n",
    "# sns.barplot возвращает объект matplotlib.axes\n",
    "# у этого объекта есть свойство containers\n",
    "b.containers.__class__  # list\n",
    "b.containers.__len__ () # 3\n",
    "# containers моего графика представляет собой список из 3 элементов (соответствуют числу ПАРАМЕТРОВ в моей классификации)\n",
    "b.containers[0]         # <BarContainer object of 6 artists>\n",
    "b.containers[0].__class__   # matplotlib.container.BarContainer\n",
    "# каждый container включает в себя 6 (по числу записей) \"рисовальщиков\"\n",
    "b.containers[2].datavalues\n",
    "# array([  nan,  83.4, 100. ,  44.3,  97.8,  88.6])\n",
    "b.containers[2].get_label() # 'finished'\n",
    "\n",
    "for c in b.containers:\n",
    "    b.bar_label (c, label_type = 'edge', padding = -25, color = 'white')\n",
    "\n",
    "\n",
    "\n",
    "\n",
    "\n",
    "\n",
    "# b.bar_label ()\n",
    "# b.__class__ # matplotlib.axes._axes.Axes\n"
   ]
  }
 ],
 "metadata": {
  "kernelspec": {
   "display_name": "Python 3",
   "language": "python",
   "name": "python3"
  },
  "language_info": {
   "codemirror_mode": {
    "name": "ipython",
    "version": 3
   },
   "file_extension": ".py",
   "mimetype": "text/x-python",
   "name": "python",
   "nbconvert_exporter": "python",
   "pygments_lexer": "ipython3",
   "version": "3.11.1"
  },
  "orig_nbformat": 4
 },
 "nbformat": 4,
 "nbformat_minor": 2
}
