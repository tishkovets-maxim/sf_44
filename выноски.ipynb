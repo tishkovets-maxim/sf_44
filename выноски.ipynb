{
 "cells": [
  {
   "cell_type": "code",
   "execution_count": null,
   "metadata": {},
   "outputs": [],
   "source": [
    "# Пытаюсь а) нарисовать график по таймдельтам б) привести таймдельты к матплотлибоугодному виду\n",
    "\n",
    "(task_01\n",
    "    .fillna (pd.to_timedelta(0))\n",
    "    .applymap (lambda x: pd.to_timedelta(x.round('s')))\n",
    "    # .applymap (lambda x: x.as_unit('s'))    # 'Timedelta' object has no attribute 'as_unit' видимо более новое\n",
    "    # .apply (lambda col: col.to_pytimedelta(), axis=0)\n",
    "    # .applymap (lambda x: x.to_numpy())          # timedelta64[ns]\n",
    "    # .applymap (lambda x: x.to_pytimedelta())    #  timedelta64[ns]\n",
    "    # .applymap (lambda x: pd.to_timedelta(x))    # timedelta64[ns]\n",
    "    .dtypes\n",
    "    # .plot(kind = 'barh')\n",
    ")\n",
    "# task_01[task_01.columns[0]].value_counts()"
   ]
  }
 ],
 "metadata": {
  "language_info": {
   "name": "python"
  },
  "orig_nbformat": 4
 },
 "nbformat": 4,
 "nbformat_minor": 2
}
